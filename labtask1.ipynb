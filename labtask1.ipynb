{
 "cells": [
  {
   "cell_type": "code",
   "execution_count": 1,
   "metadata": {},
   "outputs": [
    {
     "data": {
      "text/plain": [
       "int"
      ]
     },
     "execution_count": 1,
     "metadata": {},
     "output_type": "execute_result"
    }
   ],
   "source": [
    "a = 1\n",
    "type(a)"
   ]
  },
  {
   "cell_type": "code",
   "execution_count": 2,
   "metadata": {},
   "outputs": [
    {
     "name": "stdout",
     "output_type": "stream",
     "text": [
      "Five is greater than two!\n"
     ]
    }
   ],
   "source": [
    "if 5 > 2:\n",
    " print(\"Five is greater than two!\")\n"
   ]
  },
  {
   "cell_type": "code",
   "execution_count": 3,
   "metadata": {},
   "outputs": [
    {
     "ename": "IndentationError",
     "evalue": "expected an indented block (2602585693.py, line 2)",
     "output_type": "error",
     "traceback": [
      "\u001b[1;36m  Input \u001b[1;32mIn [3]\u001b[1;36m\u001b[0m\n\u001b[1;33m    print(\"Five  is  greater  than  two!\")\u001b[0m\n\u001b[1;37m    ^\u001b[0m\n\u001b[1;31mIndentationError\u001b[0m\u001b[1;31m:\u001b[0m expected an indented block\n"
     ]
    }
   ],
   "source": [
    "if  5  >  2:\n",
    "print(\"Five  is  greater  than  two!\")\n"
   ]
  },
  {
   "cell_type": "code",
   "execution_count": 5,
   "metadata": {},
   "outputs": [
    {
     "name": "stdout",
     "output_type": "stream",
     "text": [
      "Five  is  greater  than  two!\n",
      "Five  is  greater  than  two!\n"
     ]
    }
   ],
   "source": [
    "if  5  >  2:\n",
    " print(\"Five  is  greater  than  two!\")\n",
    "if  5  >  2:\n",
    "    print(\"Five  is  greater  than  two!\")\n",
    "\n"
   ]
  },
  {
   "cell_type": "code",
   "execution_count": 8,
   "metadata": {},
   "outputs": [
    {
     "ename": "IndentationError",
     "evalue": "unexpected indent (2933528060.py, line 3)",
     "output_type": "error",
     "traceback": [
      "\u001b[1;36m  Input \u001b[1;32mIn [8]\u001b[1;36m\u001b[0m\n\u001b[1;33m    print(\"Five  is  greater  than  two!\")\u001b[0m\n\u001b[1;37m    ^\u001b[0m\n\u001b[1;31mIndentationError\u001b[0m\u001b[1;31m:\u001b[0m unexpected indent\n"
     ]
    }
   ],
   "source": [
    "if  5  >  2:\n",
    "    print(\"Five  is  greater  than  two!\")\n",
    "        print(\"Five  is  greater  than  two!\")\n"
   ]
  },
  {
   "cell_type": "code",
   "execution_count": 9,
   "metadata": {},
   "outputs": [
    {
     "name": "stdout",
     "output_type": "stream",
     "text": [
      "Hello,  World!\n"
     ]
    }
   ],
   "source": [
    "#This  is  a  comment print(\"Hello,  World!\")\n",
    "\n",
    "\n",
    "print(\"Hello,  World!\")  #This  is  a  comment\n",
    "\n",
    "#print(\"Hello,  World!\") print(\"Cheers,  Mate!\")\n"
   ]
  },
  {
   "cell_type": "code",
   "execution_count": 10,
   "metadata": {},
   "outputs": [
    {
     "data": {
      "text/plain": [
       "'\\nThis  is  a  comment written  in\\nmore  than  just  one  line '"
      ]
     },
     "execution_count": 10,
     "metadata": {},
     "output_type": "execute_result"
    }
   ],
   "source": [
    "\"\"\"\n",
    "This  is  a  comment written  in\n",
    "more  than  just  one  line \"\"\"\n"
   ]
  },
  {
   "cell_type": "code",
   "execution_count": 12,
   "metadata": {},
   "outputs": [
    {
     "name": "stdout",
     "output_type": "stream",
     "text": [
      "5\n",
      "John\n"
     ]
    }
   ],
   "source": [
    "x = 5\n",
    "y = \"John\"\n",
    "print(x)\n",
    "print(y)\n"
   ]
  },
  {
   "cell_type": "code",
   "execution_count": 13,
   "metadata": {},
   "outputs": [
    {
     "name": "stdout",
     "output_type": "stream",
     "text": [
      "Sally\n"
     ]
    }
   ],
   "source": [
    "x  =  4\t#  x  is  of  type  int\n",
    "x  =  \"Sally\"  #  x  is  now  of  type  str \n",
    "print(x)\n"
   ]
  },
  {
   "cell_type": "code",
   "execution_count": 15,
   "metadata": {},
   "outputs": [],
   "source": [
    "x  =  str(3)\t#  x  will  be  '3' \n",
    "y  =  int(3)\t#  y  will  be  3   \n",
    "z  =  float(3)\t#  z  will  be  3.0"
   ]
  },
  {
   "cell_type": "code",
   "execution_count": 18,
   "metadata": {},
   "outputs": [
    {
     "name": "stdout",
     "output_type": "stream",
     "text": [
      "<class 'int'>\n",
      "<class 'str'>\n"
     ]
    }
   ],
   "source": [
    "x = 5\n",
    "y = \"John\"\n",
    "print(type(x)) \n",
    "print(type(y))\n"
   ]
  },
  {
   "cell_type": "code",
   "execution_count": 20,
   "metadata": {},
   "outputs": [],
   "source": [
    "x  = \"John\"\n",
    "#  is  the  same  as\n",
    "x = 'John'\n"
   ]
  },
  {
   "cell_type": "code",
   "execution_count": 21,
   "metadata": {},
   "outputs": [],
   "source": [
    "a = 4\n",
    "A = \"Sally\"\n",
    "#A  will  not  overwrite  a\n"
   ]
  },
  {
   "cell_type": "code",
   "execution_count": 23,
   "metadata": {},
   "outputs": [],
   "source": [
    "myvar  =  \"John\" \n",
    "my_var  = \"John\"\n",
    "_my_var  =  \"John\" \n",
    "myVar  =  \"John\"\n",
    "MYVAR = \"John\"\n",
    "myvar2 = \"John\"\n"
   ]
  },
  {
   "cell_type": "code",
   "execution_count": 24,
   "metadata": {},
   "outputs": [
    {
     "ename": "SyntaxError",
     "evalue": "invalid syntax (471651087.py, line 1)",
     "output_type": "error",
     "traceback": [
      "\u001b[1;36m  Input \u001b[1;32mIn [24]\u001b[1;36m\u001b[0m\n\u001b[1;33m    2myvar = \"John\"\u001b[0m\n\u001b[1;37m     ^\u001b[0m\n\u001b[1;31mSyntaxError\u001b[0m\u001b[1;31m:\u001b[0m invalid syntax\n"
     ]
    }
   ],
   "source": [
    "2myvar = \"John\" \n",
    "my-var  =  \"John\" \n",
    "my var = \"John\""
   ]
  },
  {
   "cell_type": "code",
   "execution_count": 25,
   "metadata": {},
   "outputs": [
    {
     "name": "stdout",
     "output_type": "stream",
     "text": [
      "Orange\n",
      "Banana\n",
      "Cherry\n"
     ]
    }
   ],
   "source": [
    "x,  y,  z  =  \"Orange\",  \"Banana\",  \"Cherry\" \n",
    "print(x)\n",
    "print(y) \n",
    "print(z)\n"
   ]
  },
  {
   "cell_type": "code",
   "execution_count": 26,
   "metadata": {},
   "outputs": [
    {
     "name": "stdout",
     "output_type": "stream",
     "text": [
      "Orange\n",
      "Orange\n"
     ]
    }
   ],
   "source": [
    "x = y = \"Orange\" \n",
    "print(x)   \n",
    "print(y)"
   ]
  },
  {
   "cell_type": "code",
   "execution_count": 27,
   "metadata": {},
   "outputs": [
    {
     "name": "stdout",
     "output_type": "stream",
     "text": [
      "apple\n",
      "banana\n",
      "cherry\n"
     ]
    }
   ],
   "source": [
    "fruits  =  [\"apple\",  \"banana\",  \"cherry\"] \n",
    "x,  y,  z  =  fruits\n",
    "print(x)\n",
    "print(y) \n",
    "print(z)\n"
   ]
  },
  {
   "cell_type": "code",
   "execution_count": 28,
   "metadata": {},
   "outputs": [
    {
     "name": "stdout",
     "output_type": "stream",
     "text": [
      "Python  is  awesome\n"
     ]
    }
   ],
   "source": [
    "x = \"awesome\" \n",
    "print(\"Python  is  \"  +  x)"
   ]
  },
  {
   "cell_type": "code",
   "execution_count": 29,
   "metadata": {},
   "outputs": [
    {
     "name": "stdout",
     "output_type": "stream",
     "text": [
      "Python  is  awesome\n"
     ]
    }
   ],
   "source": [
    "x  =  \"Python  is  \" \n",
    "y = \"awesome\"\n",
    "z = x + y \n",
    "print(z)\n"
   ]
  },
  {
   "cell_type": "code",
   "execution_count": 30,
   "metadata": {},
   "outputs": [
    {
     "name": "stdout",
     "output_type": "stream",
     "text": [
      "15\n"
     ]
    }
   ],
   "source": [
    "x = 5\n",
    "y = 10\n",
    "print(x + y)\n"
   ]
  },
  {
   "cell_type": "code",
   "execution_count": 31,
   "metadata": {},
   "outputs": [
    {
     "ename": "TypeError",
     "evalue": "unsupported operand type(s) for +: 'int' and 'str'",
     "output_type": "error",
     "traceback": [
      "\u001b[1;31m---------------------------------------------------------------------------\u001b[0m",
      "\u001b[1;31mTypeError\u001b[0m                                 Traceback (most recent call last)",
      "Input \u001b[1;32mIn [31]\u001b[0m, in \u001b[0;36m<cell line: 3>\u001b[1;34m()\u001b[0m\n\u001b[0;32m      1\u001b[0m x \u001b[38;5;241m=\u001b[39m \u001b[38;5;241m5\u001b[39m\n\u001b[0;32m      2\u001b[0m y \u001b[38;5;241m=\u001b[39m \u001b[38;5;124m\"\u001b[39m\u001b[38;5;124mJohn\u001b[39m\u001b[38;5;124m\"\u001b[39m \n\u001b[1;32m----> 3\u001b[0m \u001b[38;5;28mprint\u001b[39m(\u001b[43mx\u001b[49m\u001b[43m \u001b[49m\u001b[38;5;241;43m+\u001b[39;49m\u001b[43m \u001b[49m\u001b[43my\u001b[49m)\n",
      "\u001b[1;31mTypeError\u001b[0m: unsupported operand type(s) for +: 'int' and 'str'"
     ]
    }
   ],
   "source": [
    "x = 5\n",
    "y = \"John\" \n",
    "print(x + y)\n"
   ]
  },
  {
   "cell_type": "code",
   "execution_count": 33,
   "metadata": {},
   "outputs": [
    {
     "name": "stdout",
     "output_type": "stream",
     "text": [
      "Python  is  awesome\n"
     ]
    }
   ],
   "source": [
    "x = \"awesome\"\n",
    "\n",
    "def  myfunc(): \n",
    "    print(\"Python  is  \"  +  x)\n",
    "\n",
    "myfunc()\n"
   ]
  },
  {
   "cell_type": "code",
   "execution_count": 35,
   "metadata": {},
   "outputs": [
    {
     "name": "stdout",
     "output_type": "stream",
     "text": [
      "Python  is  awesome\n"
     ]
    }
   ],
   "source": [
    "x = \"awesome\"\n",
    "\n",
    "def  myfunc():\n",
    "    x  =  \"fantastic\" \n",
    "    \n",
    "myfunc()\n",
    "print(\"Python  is  \"  +  x)\n"
   ]
  },
  {
   "cell_type": "code",
   "execution_count": 38,
   "metadata": {},
   "outputs": [
    {
     "name": "stdout",
     "output_type": "stream",
     "text": [
      "Python  is  fantastic\n"
     ]
    }
   ],
   "source": [
    "\n",
    "x = \"awesome\"\n",
    "def  myfunc(): \n",
    "    global x\n",
    "    x  =  \"fantastic\"\n",
    "\n",
    "myfunc()\n",
    "print(\"Python  is  \"  +  x)\n"
   ]
  },
  {
   "cell_type": "code",
   "execution_count": 40,
   "metadata": {},
   "outputs": [
    {
     "name": "stdout",
     "output_type": "stream",
     "text": [
      "<class 'int'>\n",
      "<class 'int'>\n",
      "<class 'int'>\n",
      "<class 'float'>\n",
      "<class 'float'>\n",
      "<class 'float'>\n",
      "<class 'float'>\n",
      "<class 'float'>\n",
      "<class 'float'>\n"
     ]
    }
   ],
   "source": [
    "x = 1\t# int y  =  2.8\t#  float\n",
    "z  =  1j\t#  complex\n",
    "x = 1\n",
    "y = 35656222554887711\n",
    "z = -3255522\n",
    "print(type(x))\n",
    "print(type(y))\n",
    "print(type(z))\n",
    "x = 1.10\n",
    "y = 1.0\n",
    "z  =  -35.59\n",
    "print(type(x))\n",
    "print(type(y)) \n",
    "print(type(z))\n",
    "x = 35e3 \n",
    "y = 12E4\n",
    "z  =  -87.7e100\n",
    "print(type(x)) \n",
    "print(type(y)) \n",
    "print(type(z))\n"
   ]
  },
  {
   "cell_type": "code",
   "execution_count": 41,
   "metadata": {},
   "outputs": [
    {
     "name": "stdout",
     "output_type": "stream",
     "text": [
      "<class 'complex'>\n",
      "<class 'complex'>\n",
      "<class 'complex'>\n"
     ]
    }
   ],
   "source": [
    "x = 3+5j \n",
    "y = 5j\n",
    "z = -5j \n",
    "print(type(x)) \n",
    "print(type(y)) \n",
    "print(type(z))\n"
   ]
  },
  {
   "cell_type": "code",
   "execution_count": 44,
   "metadata": {},
   "outputs": [
    {
     "name": "stdout",
     "output_type": "stream",
     "text": [
      "1.0\n",
      "2\n",
      "(1+0j)\n",
      "<class 'float'>\n",
      "<class 'int'>\n",
      "<class 'complex'>\n"
     ]
    }
   ],
   "source": [
    "x = 1\t# int \n",
    "y  =  2.8\t#  float\n",
    "z  =  1j\t#  complex\n",
    "a  =  float(x)  #convert  from  int  to  float:\n",
    "b  =  int(y)  #convert  from  float  to  int:\n",
    "c  =  complex(x)  #convert  from  int  to  complex:\n",
    "print(a) \n",
    "print(b) \n",
    "print(c) \n",
    "print(type(a)) \n",
    "print(type(b)) \n",
    "print(type(c))\n"
   ]
  },
  {
   "cell_type": "code",
   "execution_count": 46,
   "metadata": {},
   "outputs": [
    {
     "name": "stdout",
     "output_type": "stream",
     "text": [
      "9\n"
     ]
    }
   ],
   "source": [
    "import  random \n",
    "print(random.randrange(1,  10))"
   ]
  },
  {
   "cell_type": "code",
   "execution_count": 47,
   "metadata": {},
   "outputs": [
    {
     "name": "stdout",
     "output_type": "stream",
     "text": [
      "14\n"
     ]
    }
   ],
   "source": [
    "a  =  \"Hello,  World!\" \n",
    "print(len(a))"
   ]
  },
  {
   "cell_type": "code",
   "execution_count": 49,
   "metadata": {},
   "outputs": [
    {
     "name": "stdout",
     "output_type": "stream",
     "text": [
      "llo\n",
      "Hello\n",
      "llo,  World!\n"
     ]
    }
   ],
   "source": [
    "b  =  \"Hello,  World!\" \n",
    "print(b[2:5])\n",
    "print(b[:5])\n",
    "print(b[2:])\n"
   ]
  },
  {
   "cell_type": "code",
   "execution_count": 51,
   "metadata": {},
   "outputs": [
    {
     "name": "stdout",
     "output_type": "stream",
     "text": [
      "Yes,  'free'  is  present.\n"
     ]
    }
   ],
   "source": [
    "txt  =  \"The  best  things  in  life  are  free!\"\n",
    "if \"me\" not in txt:\n",
    "    print(\"Yes,  'free'  is  present.\")\n"
   ]
  },
  {
   "cell_type": "code",
   "execution_count": 52,
   "metadata": {},
   "outputs": [
    {
     "name": "stdout",
     "output_type": "stream",
     "text": [
      "orl\n",
      "orl\n"
     ]
    }
   ],
   "source": [
    "b  =  \"Hello,  World!\"\n",
    "print(b[-5:-2]) \n",
    "b  =  \"Hello,  World!\" \n",
    "print(b[-5:-2])\n"
   ]
  },
  {
   "cell_type": "code",
   "execution_count": 53,
   "metadata": {},
   "outputs": [
    {
     "name": "stdout",
     "output_type": "stream",
     "text": [
      "  HELLO,  WORLD!  \n",
      "  hello,  world!  \n",
      "Hello,  World!\n",
      "  Jello,  World!  \n",
      "['  Hello', '  World!  ']\n"
     ]
    }
   ],
   "source": [
    "a  =  \"  Hello,  World!  \"\n",
    "print(a.upper())  # returns  the  string  in  upper  case\n",
    "print(a.lower())  # returns  the  string  in  lower  case\n",
    "print(a.strip()) # removes any whitespace from the beginning or the end\n",
    "print(a.replace(\"H\",  \"J\"))  # replaces  a  string  with  another  string\n",
    "\n",
    "print(a.split(\",\"))  #  splits  the  string  into  substrings  if  it  finds instances of the separator\n"
   ]
  },
  {
   "cell_type": "code",
   "execution_count": 54,
   "metadata": {},
   "outputs": [
    {
     "name": "stdout",
     "output_type": "stream",
     "text": [
      "My  name  is  John,  and  I  am  36\n",
      "I  want  3  pieces  of  item  567  for  49.95  dollars.\n"
     ]
    }
   ],
   "source": [
    "age = 36\n",
    "txt  =  \"My  name  is  John,  and  I  am  {}\" \n",
    "print(txt.format(age))\n",
    "quantity  =  3\n",
    "itemno  =  567\n",
    "price  =  49.95\n",
    "myorder  =  \"I  want  {}  pieces  of  item  {}  for  {}  dollars.\" \n",
    "\n",
    "print(myorder.format(quantity,  itemno,  price))\n"
   ]
  },
  {
   "cell_type": "code",
   "execution_count": 55,
   "metadata": {},
   "outputs": [
    {
     "name": "stdout",
     "output_type": "stream",
     "text": [
      "I  want  to  pay  49.95  dollars  for  3  pieces  of  item  567.\n"
     ]
    }
   ],
   "source": [
    "quantity  =  3\n",
    "itemno  =  567\n",
    "price  =  49.95\n",
    "myorder  =  \"I  want  to  pay  {2}  dollars  for  {0}  pieces  of  item  {1}.\" \n",
    "print(myorder.format(quantity,  itemno,  price))\n"
   ]
  },
  {
   "cell_type": "code",
   "execution_count": 6,
   "metadata": {},
   "outputs": [],
   "source": [
    "import numpy as np\n"
   ]
  },
  {
   "cell_type": "code",
   "execution_count": 25,
   "metadata": {},
   "outputs": [
    {
     "name": "stdout",
     "output_type": "stream",
     "text": [
      "enter the order of first matrix 2 3\n",
      "enter the order of second matrix 3 2\n"
     ]
    }
   ],
   "source": [
    "order1X,order1Y  = input(\"enter the order of first matrix\").split()\n",
    "order2X,order2Y  = input(\"enter the order of second matrix\").split()\n"
   ]
  },
  {
   "cell_type": "code",
   "execution_count": 43,
   "metadata": {},
   "outputs": [],
   "source": [
    "order1X = int(order1X)\n",
    "order1Y = int(order1Y)\n",
    "order2X = int(order2X)\n",
    "order2Y = int(order2Y)"
   ]
  },
  {
   "cell_type": "code",
   "execution_count": 44,
   "metadata": {},
   "outputs": [
    {
     "data": {
      "text/plain": [
       "2"
      ]
     },
     "execution_count": 44,
     "metadata": {},
     "output_type": "execute_result"
    }
   ],
   "source": [
    "order2Y"
   ]
  },
  {
   "cell_type": "code",
   "execution_count": 55,
   "metadata": {},
   "outputs": [],
   "source": [
    "matrix1  = np.ones(shape=(order1X,order1Y))*10"
   ]
  },
  {
   "cell_type": "code",
   "execution_count": 56,
   "metadata": {},
   "outputs": [],
   "source": [
    "# matrix1.shape"
   ]
  },
  {
   "cell_type": "code",
   "execution_count": 57,
   "metadata": {},
   "outputs": [],
   "source": [
    "# "
   ]
  },
  {
   "cell_type": "code",
   "execution_count": 58,
   "metadata": {},
   "outputs": [],
   "source": [
    "# matrix2.shape"
   ]
  },
  {
   "cell_type": "code",
   "execution_count": null,
   "metadata": {},
   "outputs": [],
   "source": []
  },
  {
   "cell_type": "code",
   "execution_count": 59,
   "metadata": {},
   "outputs": [],
   "source": [
    "matrix2  = np.ones(shape=(order2X,order2Y))*10"
   ]
  },
  {
   "cell_type": "code",
   "execution_count": 60,
   "metadata": {},
   "outputs": [
    {
     "data": {
      "text/plain": [
       "array([[10., 10., 10.],\n",
       "       [10., 10., 10.]])"
      ]
     },
     "execution_count": 60,
     "metadata": {},
     "output_type": "execute_result"
    }
   ],
   "source": [
    "matrix1"
   ]
  },
  {
   "cell_type": "code",
   "execution_count": 61,
   "metadata": {},
   "outputs": [
    {
     "data": {
      "text/plain": [
       "array([[10., 10.],\n",
       "       [10., 10.],\n",
       "       [10., 10.]])"
      ]
     },
     "execution_count": 61,
     "metadata": {},
     "output_type": "execute_result"
    }
   ],
   "source": [
    "matrix2"
   ]
  },
  {
   "cell_type": "code",
   "execution_count": 63,
   "metadata": {},
   "outputs": [],
   "source": [
    "mulMatrix = np.dot(matrix1,matrix2)"
   ]
  },
  {
   "cell_type": "code",
   "execution_count": null,
   "metadata": {},
   "outputs": [
    {
     "data": {
      "text/plain": [
       "array([[300., 300.],\n",
       "       [300., 300.]])"
      ]
     },
     "execution_count": 64,
     "metadata": {},
     "output_type": "execute_result"
    }
   ],
   "source": [
    "mulMatrix"
   ]
  },
  {
   "cell_type": "code",
   "execution_count": 88,
   "metadata": {},
   "outputs": [
    {
     "name": "stdout",
     "output_type": "stream",
     "text": [
      "input a number :  5555555555555555555555555555\n"
     ]
    }
   ],
   "source": [
    "n = int(input(\"input a number : \"))"
   ]
  },
  {
   "cell_type": "code",
   "execution_count": 89,
   "metadata": {},
   "outputs": [],
   "source": [
    "flag = False"
   ]
  },
  {
   "cell_type": "code",
   "execution_count": 90,
   "metadata": {},
   "outputs": [
    {
     "name": "stdout",
     "output_type": "stream",
     "text": [
      "5555555555555555555555555555 is not a prime number\n"
     ]
    }
   ],
   "source": [
    "if n > 1:\n",
    "    for i in range(2, n):\n",
    "        if (n % i) == 0:\n",
    "            flag = True\n",
    "            break\n",
    "\n",
    "if flag:\n",
    "    print(n, \"is not a prime number\")\n",
    "else:\n",
    "    print(n, \"is a prime number\")"
   ]
  },
  {
   "cell_type": "code",
   "execution_count": null,
   "metadata": {},
   "outputs": [],
   "source": [
    "factorial = 1    \n",
    "if n < 0:    \n",
    "   print(\" Factorial does not exist for negative numbers\")    \n",
    "elif n == 0:    \n",
    "   print(\"The factorial of 0 is 1\")    \n",
    "else:    \n",
    "   for i in range(1,n + 1):    \n",
    "       factorial = factorial*i    \n",
    "   print(\"The factorial of\",n,\"is\",factorial)   "
   ]
  },
  {
   "cell_type": "code",
   "execution_count": 4,
   "metadata": {},
   "outputs": [],
   "source": [
    "import cv2\n",
    "import matplotlib.pyplot as plt"
   ]
  },
  {
   "cell_type": "code",
   "execution_count": 14,
   "metadata": {},
   "outputs": [
    {
     "data": {
      "text/plain": [
       "<matplotlib.image.AxesImage at 0x1ea52d1cc10>"
      ]
     },
     "execution_count": 14,
     "metadata": {},
     "output_type": "execute_result"
    },
    {
     "data": {
      "image/png": "[encoded data removed]",
      "text/plain": [
       "<Figure size 432x288 with 1 Axes>"
      ]
     },
     "metadata": {
      "needs_background": "light"
     },
     "output_type": "display_data"
    }
   ],
   "source": [
    "img = cv2.imread('../computerVision/data/dog_backpack.jpg')\n",
    "img = cv2.cvtColor(img,cv2.COLOR_BGR2RGB)\n",
    "plt.imshow(img,'gray')"
   ]
  },
  {
   "cell_type": "code",
   "execution_count": 11,
   "metadata": {},
   "outputs": [
    {
     "data": {
      "text/plain": [
       "(1401, 934, 3)"
      ]
     },
     "execution_count": 11,
     "metadata": {},
     "output_type": "execute_result"
    }
   ],
   "source": [
    "img.shape"
   ]
  },
  {
   "cell_type": "code",
   "execution_count": 2,
   "metadata": {},
   "outputs": [
    {
     "name": "stdout",
     "output_type": "stream",
     "text": [
      "String after deletion: This is lion in cage\n"
     ]
    }
   ],
   "source": [
    "text = 'This is the lion in the cage'\n",
    "words = text.split()\n",
    "\n",
    "data = 'the'\n",
    "status = False\n",
    "\n",
    "for word in words:\n",
    "    if word == data:\n",
    "        words.remove(word)\n",
    "        status = True\n",
    "\n",
    "if status:\n",
    "    text = ' '.join(words)\n",
    "    print('String after deletion:',text)\n",
    "else:\n",
    "    print('Word not present in string.')"
   ]
  },
  {
   "cell_type": "code",
   "execution_count": 3,
   "metadata": {},
   "outputs": [
    {
     "name": "stdout",
     "output_type": "stream",
     "text": [
      "Longest word is:  umbrella\n",
      "And its length is:  8\n",
      "shortest word is:  is\n",
      "And its length is:  2\n"
     ]
    }
   ],
   "source": [
    "sentence = \"This is an umbrella\"\n",
    "\n",
    "# Finding longest word\n",
    "longest = max(sentence.split(), key=len)\n",
    "shortest = min(sentence.split(), key=len)\n",
    "# Displaying longest word\n",
    "print(\"Longest word is: \", longest)\n",
    "print(\"And its length is: \", len(longest))\n",
    "print(\"shortest word is: \", shortest)\n",
    "print(\"And its length is: \", len(shortest))"
   ]
  },
  {
   "cell_type": "code",
   "execution_count": 12,
   "metadata": {},
   "outputs": [
    {
     "name": "stdout",
     "output_type": "stream",
     "text": [
      "Please enter your full name:  muhammad kashif bhatti\n",
      "obrvation of your name is : MK Bhatti\n"
     ]
    }
   ],
   "source": [
    "fullName = input(\"Please enter your full name: \")\n",
    "listName = fullName.split()\n",
    "firstName = listName[0]\n",
    "middleName = listName[1]\n",
    "lastName = listName[2]\n",
    "print(\"obrvation of your name is : \"+ firstName[0:1].upper()+middleName[0:1].upper()+' '+lastName[0:1].upper()+lastName[1:])"
   ]
  },
  {
   "cell_type": "code",
   "execution_count": 13,
   "metadata": {},
   "outputs": [
    {
     "name": "stdout",
     "output_type": "stream",
     "text": [
      "enter the three inputs sepratd by commas kashif,kashif,bhatti\n",
      "only 2 are equal\n"
     ]
    }
   ],
   "source": [
    "inputs = input(\"enter the three inputs sepratd by commas\")\n",
    "text = inputs.split(',')\n",
    "if text[0]== text[1] and text[1] == text[2]:\n",
    "    print(\"all inputs are same\")\n",
    "elif text[0]== text[1] or text[1] == text[2] or text[0] == text[2]:\n",
    "    print(\"only 2 are equal\")"
   ]
  },
  {
   "cell_type": "code",
   "execution_count": null,
   "metadata": {},
   "outputs": [],
   "source": []
  },
  {
   "cell_type": "code",
   "execution_count": null,
   "metadata": {},
   "outputs": [],
   "source": []
  },
  {
   "cell_type": "code",
   "execution_count": null,
   "metadata": {},
   "outputs": [],
   "source": []
  },
  {
   "cell_type": "code",
   "execution_count": null,
   "metadata": {},
   "outputs": [],
   "source": []
  },
  {
   "cell_type": "code",
   "execution_count": null,
   "metadata": {},
   "outputs": [],
   "source": []
  },
  {
   "cell_type": "code",
   "execution_count": null,
   "metadata": {},
   "outputs": [],
   "source": []
  },
  {
   "cell_type": "code",
   "execution_count": null,
   "metadata": {},
   "outputs": [],
   "source": []
  }
 ],
 "metadata": {
  "kernelspec": {
   "display_name": "Python 3 (ipykernel)",
   "language": "python",
   "name": "python3"
  },
  "language_info": {
   "codemirror_mode": {
    "name": "ipython",
    "version": 3
   },
   "file_extension": ".py",
   "mimetype": "text/x-python",
   "name": "python",
   "nbconvert_exporter": "python",
   "pygments_lexer": "ipython3",
   "version": "3.9.12"
  },
  "vscode": {
   "interpreter": {
    "hash": "1fbf3b7b3eb9034ee4f0d1de2f3c40de48971b533fbb5a1daac448e0f2b14077"
   }
  }
 },
 "nbformat": 4,
 "nbformat_minor": 4
}
