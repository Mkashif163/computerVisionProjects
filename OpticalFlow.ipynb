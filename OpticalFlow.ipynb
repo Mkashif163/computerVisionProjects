{
 "cells": [
  {
   "cell_type": "markdown",
   "id": "f4cd362f-f516-4aac-ac5d-ef3a0465ca56",
   "metadata": {},
   "source": [
    "<h1>Lucas knaday method"
   ]
  },
  {
   "cell_type": "code",
   "execution_count": 14,
   "id": "8515a4ed-3fcd-4271-b57e-d09e27151370",
   "metadata": {},
   "outputs": [],
   "source": [
    "import numpy as np\n",
    "import cv2"
   ]
  },
  {
   "cell_type": "code",
   "execution_count": 15,
   "id": "38682182-fc94-440d-b93c-317e246ce0d4",
   "metadata": {},
   "outputs": [],
   "source": [
    "corner_tracker_params = dict(maxCorners=10,qualityLevel=0.3,minDistance=7,blockSize=7)"
   ]
  },
  {
   "cell_type": "code",
   "execution_count": 16,
   "id": "bc95d761-793c-402d-923b-62179206affa",
   "metadata": {},
   "outputs": [],
   "source": [
    "lk_params = dict(winSize=(200,200),maxLevel=2,criteria=(cv2.TERM_CRITERIA_EPS | cv2.TERM_CRITERIA_COUNT,10,0.3))"
   ]
  },
  {
   "cell_type": "code",
   "execution_count": 17,
   "id": "e95a87d0-8656-42f7-85d4-427b2253e47b",
   "metadata": {},
   "outputs": [],
   "source": [
    "# cap = cv2.VideoCapture(0)\n",
    "\n",
    "# while True:\n",
    "#     ret,frame = cap.read()\n",
    "#     cv2.imshow('test',frame)\n",
    "#     k = cv2.waitKey(10)\n",
    "#     if k == ord('q'):\n",
    "#         break\n",
    "# cap.release()\n",
    "# cv2.destroyAllWindows()"
   ]
  },
  {
   "cell_type": "code",
   "execution_count": 18,
   "id": "6efdcf43-a2a9-41d9-a6e1-6ec0d9408df9",
   "metadata": {},
   "outputs": [],
   "source": [
    "# cap = cv2.VideoCapture(0)\n",
    "\n",
    "# ret,prev_frame = cap.read()\n",
    "\n",
    "# prev_gray = cv2.cvtColor(prev_frame,cv2.COLOR_BGR2GRAY)\n",
    "\n",
    "# prevPts = cv2.goodFeaturesToTrack(prev_gray,mask=None,**corner_tracker_params)\n",
    "\n",
    "# mask = np.zeros_like(prev_frame)\n",
    "\n",
    "# while True:\n",
    "#     ret  , frame = cap.read()\n",
    "#     frame_gray = cv2.cvtColor(frame,cv2.COLOR_BGR2GRAY)\n",
    "#     nextPts , status,arr = cv2.calcOpticalFlowPyrLK(prev_gray,frame_gray,prevPts,None,**lk_params)\n",
    "#     good_new = nextPts[status==1]\n",
    "#     good_prev = prevPts[status==1]\n",
    "    \n",
    "#     for i ,(new,prev) in enumerate(zip(good_new,good_prev)):\n",
    "#         x_new,y_new = new.ravel()\n",
    "#         x_prev,y_prev = prev.ravel()\n",
    "        \n",
    "#         mask  = cv2.line(mask,(x_new,y_new),(x_prev,y_prev),(0,255,0),3)\n",
    "#         frame = cv2.circle(frame,(x_new,y_new),8,(0,0,255),-1)\n",
    "        \n",
    "#     img = cv2.add(frame,mask)\n",
    "#     cv2.imshow('traking',img)\n",
    "    \n",
    "#     k=cv2.waitKey(30)&0xFF\n",
    "#     if k==ord('q'):\n",
    "#         break\n",
    "#     prev_gray = frame_gray.copy()\n",
    "#     prevPts = good_new.reshape(-1,1,2)\n",
    "    \n",
    " \n",
    "# cv2.destroyAllWindows()\n",
    "# cap.release()\n"
   ]
  },
  {
   "cell_type": "code",
   "execution_count": 20,
   "id": "930e8d59-8cbb-4f82-b326-8b5950a18b95",
   "metadata": {},
   "outputs": [],
   "source": [
    "cap = cv2.VideoCapture(0)\n",
    "\n",
    "ret,frame1 = cap.read()\n",
    "prevImg = cv2.cvtColor(frame1,cv2.COLOR_BGR2GRAY)\n",
    "\n",
    "hsv_mask = np.zeros_like(frame1)\n",
    "hsv_mask[::1]=255\n",
    "while True:\n",
    "    ret,frame2 = cap.read()\n",
    "    nextImg = cv2.cvtColor(frame2,cv2.COLOR_BGR2GRAY)\n",
    "    flow = cv2.calcOpticalFlowFarneback(prevImg,nextImg,None,0.5,3,15,3,5,1.2,0)\n",
    "    mag,ang = cv2.cartToPolar(flow[:,:,0],flow[:,:,1],angleInDegrees=True)\n",
    "    hsv_mask[:,:,0]=ang/2\n",
    "    hsv_mask[:,:,2]= cv2.normalize(mag,None,0,255,cv2.NORM_MINMAX)\n",
    "    bgr = cv2.cvtColor(hsv_mask,cv2.COLOR_HSV2BGR)\n",
    "    cv2.imshow('frame',bgr)\n",
    "    k = cv2.waitKey(10) & 0xFF\n",
    "    if k == ord('q'):\n",
    "        break\n",
    "    prevImg = nextImg\n",
    "    \n",
    "cap.release()\n",
    "cv2.destroyAllWindows()\n",
    "    \n",
    "    \n",
    "    "
   ]
  },
  {
   "cell_type": "code",
   "execution_count": null,
   "id": "92119646-fd41-41a7-8ed1-176da5f9cbbb",
   "metadata": {},
   "outputs": [],
   "source": []
  }
 ],
 "metadata": {
  "kernelspec": {
   "display_name": "Python 3 (ipykernel)",
   "language": "python",
   "name": "python3"
  },
  "language_info": {
   "codemirror_mode": {
    "name": "ipython",
    "version": 3
   },
   "file_extension": ".py",
   "mimetype": "text/x-python",
   "name": "python",
   "nbconvert_exporter": "python",
   "pygments_lexer": "ipython3",
   "version": "3.9.12"
  }
 },
 "nbformat": 4,
 "nbformat_minor": 5
}
