{
 "cells": [
  {
   "cell_type": "code",
   "execution_count": 1,
   "id": "b454b22b-0e21-4582-a89d-3e06ea84650c",
   "metadata": {},
   "outputs": [],
   "source": [
    "import numpy as np\n",
    "import pandas as pd\n",
    "from keras.datasets import cifar10\n",
    "import matplotlib.pyplot as plt"
   ]
  },
  {
   "cell_type": "code",
   "execution_count": 2,
   "id": "48878353-8ec5-4583-b98b-7d3f67dd87c7",
   "metadata": {},
   "outputs": [],
   "source": [
    "(x_train,y_train),(x_test,y_test)= cifar10.load_data()"
   ]
  },
  {
   "cell_type": "code",
   "execution_count": 3,
   "id": "1484e230-abc5-4803-9fc1-bf7c4812ad6a",
   "metadata": {},
   "outputs": [],
   "source": [
    "x_test = x_test/255\n",
    "x_train= x_train/255"
   ]
  },
  {
   "cell_type": "code",
   "execution_count": 4,
   "id": "55f90743-9765-4b2c-b4e0-1cadc705bfbf",
   "metadata": {},
   "outputs": [],
   "source": [
    "from keras.utils import to_categorical "
   ]
  },
  {
   "cell_type": "code",
   "execution_count": 5,
   "id": "8d3e66fe-560f-42b2-80cb-42fd907d57cf",
   "metadata": {},
   "outputs": [],
   "source": [
    "y_cat_train = to_categorical(y_train,10)\n",
    "y_cat_test =to_categorical(y_test,10)"
   ]
  },
  {
   "cell_type": "code",
   "execution_count": null,
   "id": "5c1b6ca2-d16d-4d39-bd3b-afe23d5fc5bf",
   "metadata": {},
   "outputs": [],
   "source": []
  },
  {
   "cell_type": "code",
   "execution_count": null,
   "id": "d53188f2-615f-4179-ac2c-2e0ba3f908ce",
   "metadata": {},
   "outputs": [],
   "source": []
  },
  {
   "cell_type": "code",
   "execution_count": null,
   "id": "83edcf0d-536b-4bea-bf79-b7571744a399",
   "metadata": {},
   "outputs": [],
   "source": []
  },
  {
   "cell_type": "code",
   "execution_count": null,
   "id": "884c2df9-b75f-4227-97ba-07d654c18b43",
   "metadata": {},
   "outputs": [],
   "source": []
  },
  {
   "cell_type": "code",
   "execution_count": 6,
   "id": "dfd0ea6a-b259-4a8d-b23e-01c2c1e86d77",
   "metadata": {},
   "outputs": [],
   "source": [
    "# Initialize variables\n",
    "learning_rate = 0.1\n",
    "iterations = 5000\n",
    "N = y_train.size\n",
    "\n",
    "# number of input features\n",
    "input_size = 32\n",
    "\n",
    "# number of hidden layers neurons\n",
    "hidden_size = 32 \n",
    "\n",
    "# number of neurons at the output layer\n",
    "output_size = 3  \n",
    "\n",
    "results = pd.DataFrame(columns=[\"mse\", \"accuracy\"])"
   ]
  },
  {
   "cell_type": "code",
   "execution_count": null,
   "id": "9decc2d4-0650-41f1-b8f3-de2b7ff73521",
   "metadata": {},
   "outputs": [],
   "source": []
  },
  {
   "cell_type": "code",
   "execution_count": null,
   "id": "acac90d5-8373-4d6b-b457-993bbc56b7a8",
   "metadata": {},
   "outputs": [],
   "source": []
  },
  {
   "cell_type": "code",
   "execution_count": null,
   "id": "4df2fec7-8107-4f3c-aa17-06915df4d5a2",
   "metadata": {},
   "outputs": [],
   "source": []
  },
  {
   "cell_type": "code",
   "execution_count": 10,
   "id": "c9059a86-3032-4d11-a8c9-1f9189acb796",
   "metadata": {},
   "outputs": [],
   "source": [
    "# Initialize weights\n",
    "np.random.seed(10)\n",
    "\n",
    "# initializing weight for the hidden layer\n",
    "W1 = np.random.normal(scale=0.5, size=(input_size, hidden_size,3))   \n",
    "\n",
    "# initializing weight for the output layer\n",
    "W2 = np.random.normal(scale=0.5, size=(hidden_size , output_size,3)) "
   ]
  },
  {
   "cell_type": "code",
   "execution_count": 11,
   "id": "056bbd0a-460d-45f3-bb08-171103a5751c",
   "metadata": {},
   "outputs": [],
   "source": [
    "def sigmoid(x):\n",
    "    return 1 / (1 + np.exp(-x))\n",
    "\n",
    "def mean_squared_error(y_pred, y_true):\n",
    "    return ((y_pred - y_true)**2).sum() / (2*y_pred.size)\n",
    "    \n",
    "def accuracy(y_pred, y_true):\n",
    "    acc = y_pred.argmax(axis=1) == y_true.argmax(axis=1)\n",
    "    return acc.mean()"
   ]
  },
  {
   "cell_type": "code",
   "execution_count": 12,
   "id": "c125483f-acd4-4382-97a6-9805e11402b9",
   "metadata": {},
   "outputs": [
    {
     "ename": "ValueError",
     "evalue": "shapes (50000,32,32,3) and (32,32,3) not aligned: 3 (dim 3) != 32 (dim 1)",
     "output_type": "error",
     "traceback": [
      "\u001b[1;31m---------------------------------------------------------------------------\u001b[0m",
      "\u001b[1;31mValueError\u001b[0m                                Traceback (most recent call last)",
      "Input \u001b[1;32mIn [12]\u001b[0m, in \u001b[0;36m<cell line: 1>\u001b[1;34m()\u001b[0m\n\u001b[0;32m      1\u001b[0m \u001b[38;5;28;01mfor\u001b[39;00m itr \u001b[38;5;129;01min\u001b[39;00m \u001b[38;5;28mrange\u001b[39m(iterations):    \n\u001b[0;32m      2\u001b[0m     \n\u001b[0;32m      3\u001b[0m     \u001b[38;5;66;03m# feedforward propagation\u001b[39;00m\n\u001b[0;32m      4\u001b[0m     \u001b[38;5;66;03m# on hidden layer\u001b[39;00m\n\u001b[1;32m----> 5\u001b[0m     Z1 \u001b[38;5;241m=\u001b[39m \u001b[43mnp\u001b[49m\u001b[38;5;241;43m.\u001b[39;49m\u001b[43mdot\u001b[49m\u001b[43m(\u001b[49m\u001b[43mx_train\u001b[49m\u001b[43m,\u001b[49m\u001b[43m \u001b[49m\u001b[43mW1\u001b[49m\u001b[43m)\u001b[49m\n\u001b[0;32m      6\u001b[0m     A1 \u001b[38;5;241m=\u001b[39m sigmoid(Z1)\n\u001b[0;32m      8\u001b[0m     \u001b[38;5;66;03m# on output layer\u001b[39;00m\n",
      "File \u001b[1;32m<__array_function__ internals>:5\u001b[0m, in \u001b[0;36mdot\u001b[1;34m(*args, **kwargs)\u001b[0m\n",
      "\u001b[1;31mValueError\u001b[0m: shapes (50000,32,32,3) and (32,32,3) not aligned: 3 (dim 3) != 32 (dim 1)"
     ]
    }
   ],
   "source": [
    "for itr in range(iterations):    \n",
    "    \n",
    "    # feedforward propagation\n",
    "    # on hidden layer\n",
    "    Z1 = np.dot(x_train, W1)\n",
    "    A1 = sigmoid(Z1)\n",
    "\n",
    "    # on output layer\n",
    "    Z2 = np.dot(A1, W2)\n",
    "    A2 = sigmoid(Z2)\n",
    "    \n",
    "    \n",
    "    # Calculating error\n",
    "    mse = mean_squared_error(A2, y_train)\n",
    "    acc = accuracy(A2, y_train)\n",
    "    results=results.append({\"mse\":mse, \"accuracy\":acc},ignore_index=True )\n",
    "    \n",
    "    # backpropagation\n",
    "    E1 = A2 - y_train\n",
    "    dW1 = E1 * A2 * (1 - A2)\n",
    "\n",
    "    E2 = np.dot(dW1, W2.T)\n",
    "    dW2 = E2 * A1 * (1 - A1)\n",
    "\n",
    "    \n",
    "    # weight updates\n",
    "    W2_update = np.dot(A1.T, dW1) / N\n",
    "    W1_update = np.dot(x_train.T, dW2) / N\n",
    "\n",
    "    W2 = W2 - learning_rate * W2_update\n",
    "    W1 = W1 - learning_rate * W1_update"
   ]
  },
  {
   "cell_type": "code",
   "execution_count": null,
   "id": "7bb76dbf-b260-45fb-a99a-8e1b305aa4dd",
   "metadata": {},
   "outputs": [],
   "source": []
  },
  {
   "cell_type": "code",
   "execution_count": null,
   "id": "739f9437-b09a-407b-9348-f8d36f5870c6",
   "metadata": {},
   "outputs": [],
   "source": []
  }
 ],
 "metadata": {
  "kernelspec": {
   "display_name": "Python 3 (ipykernel)",
   "language": "python",
   "name": "python3"
  },
  "language_info": {
   "codemirror_mode": {
    "name": "ipython",
    "version": 3
   },
   "file_extension": ".py",
   "mimetype": "text/x-python",
   "name": "python",
   "nbconvert_exporter": "python",
   "pygments_lexer": "ipython3",
   "version": "3.9.12"
  }
 },
 "nbformat": 4,
 "nbformat_minor": 5
}
