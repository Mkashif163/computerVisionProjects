{
 "cells": [
  {
   "cell_type": "code",
   "execution_count": 1,
   "id": "1b5e9c16-0d27-4c13-9a58-909f14ac6c47",
   "metadata": {},
   "outputs": [],
   "source": [
    "import tensorflow as tf"
   ]
  },
  {
   "cell_type": "code",
   "execution_count": 3,
   "id": "12d6b384-7b1c-4970-95a0-fb48969548ad",
   "metadata": {},
   "outputs": [
    {
     "name": "stdout",
     "output_type": "stream",
     "text": [
      "tf.Tensor(1, shape=(), dtype=int16)\n"
     ]
    }
   ],
   "source": [
    "#creating tensor of value 1 of int type\n",
    "r1=tf.constant (1, tf.int16)  \n",
    "print (r1)"
   ]
  },
  {
   "cell_type": "code",
   "execution_count": 6,
   "id": "6b1710d2-fcc3-43ac-b50f-cd338e12a39e",
   "metadata": {},
   "outputs": [
    {
     "name": "stdout",
     "output_type": "stream",
     "text": [
      "tf.Tensor(1, shape=(), dtype=int16)\n"
     ]
    }
   ],
   "source": [
    "# Named my_scalar  \n",
    "r2 = tf.constant(1, tf.int16, name = \"my_scalar\")   \n",
    "print(r2)  "
   ]
  },
  {
   "cell_type": "code",
   "execution_count": 8,
   "id": "bbef38df-7a45-4dab-804d-444dfb021458",
   "metadata": {},
   "outputs": [
    {
     "name": "stdout",
     "output_type": "stream",
     "text": [
      "tf.Tensor(1.12345, shape=(), dtype=float32)\n",
      "tf.Tensor(b'JavaTpoint', shape=(), dtype=string)\n"
     ]
    }
   ],
   "source": [
    "#Decimal data  \n",
    "q1_decimal = tf.constant(1.12345, tf.float32)  \n",
    "print(q1_decimal)  \n",
    "#String data  \n",
    "q1_string = tf.constant(\"JavaTpoint\", tf.string)  \n",
    "print(q1_string)"
   ]
  },
  {
   "cell_type": "code",
   "execution_count": 11,
   "id": "4ee160d0-f337-413c-abec-ed2f01d8e6a2",
   "metadata": {},
   "outputs": [
    {
     "name": "stdout",
     "output_type": "stream",
     "text": [
      "tf.Tensor([1 3 6], shape=(3,), dtype=int16)\n",
      "tf.Tensor([ True  True False], shape=(3,), dtype=bool)\n"
     ]
    }
   ],
   "source": [
    "q1_vector = tf.constant([1,3,6], tf.int16) \n",
    "print(q1_vector)  \n",
    "q2_boolean = tf.constant([True, True, False], tf.bool)  \n",
    "print(q2_boolean)  "
   ]
  },
  {
   "cell_type": "code",
   "execution_count": 14,
   "id": "9a2e06b0-5dde-470b-8a93-bb625277424b",
   "metadata": {},
   "outputs": [
    {
     "name": "stdout",
     "output_type": "stream",
     "text": [
      "tf.Tensor(\n",
      "[[1 2]\n",
      " [3 4]], shape=(2, 2), dtype=int16)\n"
     ]
    }
   ],
   "source": [
    "q2_matrix = tf.constant([ [1, 2],  \n",
    " [3, 4] ],tf.int16)  \n",
    "print(q2_matrix)"
   ]
  },
  {
   "cell_type": "code",
   "execution_count": null,
   "id": "8711ea11-2f50-47e1-92e5-a06862dfd3a7",
   "metadata": {},
   "outputs": [],
   "source": []
  },
  {
   "cell_type": "code",
   "execution_count": null,
   "id": "ed84f3c2-d4ae-44b1-83e2-e9c59f331eea",
   "metadata": {},
   "outputs": [],
   "source": []
  },
  {
   "cell_type": "code",
   "execution_count": null,
   "id": "8c4c5892-1041-4ba7-9d3c-966c8d7a73fa",
   "metadata": {},
   "outputs": [],
   "source": []
  }
 ],
 "metadata": {
  "kernelspec": {
   "display_name": "Python 3 (ipykernel)",
   "language": "python",
   "name": "python3"
  },
  "language_info": {
   "codemirror_mode": {
    "name": "ipython",
    "version": 3
   },
   "file_extension": ".py",
   "mimetype": "text/x-python",
   "name": "python",
   "nbconvert_exporter": "python",
   "pygments_lexer": "ipython3",
   "version": "3.9.12"
  }
 },
 "nbformat": 4,
 "nbformat_minor": 5
}
