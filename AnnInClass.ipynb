{
 "cells": [
  {
   "cell_type": "code",
   "execution_count": 1,
   "id": "d647eb93-9681-4bf1-9d81-65afaf8d9257",
   "metadata": {},
   "outputs": [],
   "source": [
    "import numpy as np"
   ]
  },
  {
   "cell_type": "code",
   "execution_count": 4,
   "id": "5a6c8804-a1f1-4ea5-a705-6add3482f6ba",
   "metadata": {},
   "outputs": [
    {
     "data": {
      "text/plain": [
       "array([[0, 0],\n",
       "       [0, 1],\n",
       "       [1, 1],\n",
       "       [1, 0]])"
      ]
     },
     "execution_count": 4,
     "metadata": {},
     "output_type": "execute_result"
    }
   ],
   "source": [
    "input_value = np.array([[0,0],[0,1],[1,1],[1,0]])\n",
    "input_value.shape\n",
    "input_value\n"
   ]
  },
  {
   "cell_type": "code",
   "execution_count": 5,
   "id": "43bfa007-01ed-43a3-821f-362ef3a0f1fd",
   "metadata": {},
   "outputs": [
    {
     "data": {
      "text/plain": [
       "array([0, 1, 1, 0])"
      ]
     },
     "execution_count": 5,
     "metadata": {},
     "output_type": "execute_result"
    }
   ],
   "source": [
    "ouput_value = np.array([0,1,1,0])\n",
    "ouput_value.reshape(4,1)\n",
    "ouput_value"
   ]
  },
  {
   "cell_type": "code",
   "execution_count": 6,
   "id": "9425c263-e31f-4d7f-9300-26091041975e",
   "metadata": {},
   "outputs": [],
   "source": [
    "weights=np.array([[0.1],[0.2]])"
   ]
  },
  {
   "cell_type": "code",
   "execution_count": 7,
   "id": "92a47839-546f-4fbf-b8cb-268d753d59f6",
   "metadata": {},
   "outputs": [],
   "source": [
    "bies = 0.3"
   ]
  },
  {
   "cell_type": "code",
   "execution_count": 9,
   "id": "2c6c59be-b8ea-4731-a1e9-6fdb8cf87623",
   "metadata": {},
   "outputs": [],
   "source": [
    "def sigmoid_function(x):\n",
    "    return 1/(1+np.exp(-x))"
   ]
  },
  {
   "cell_type": "code",
   "execution_count": 11,
   "id": "69dd84e9-1445-41ee-811b-b92082b907bc",
   "metadata": {},
   "outputs": [],
   "source": [
    "def derivation_sigmoid(x):\n",
    "    return sigmoid_function(x)*(1-sigmoid_function(x))"
   ]
  },
  {
   "cell_type": "code",
   "execution_count": 12,
   "id": "d4bc0ed0-19c7-48f4-8c96-f5940302be51",
   "metadata": {},
   "outputs": [
    {
     "name": "stdout",
     "output_type": "stream",
     "text": [
      "[[-1.92140234  1.85269664  1.85269664 -1.92140234]\n",
      " [-1.89198324  1.88371476  1.88371476 -1.89198324]]\n",
      "[-7.44917034  7.2234464   7.2234464  -7.44917034]\n"
     ]
    }
   ],
   "source": [
    "for epochs in range(10000):\n",
    "    input_array = input_value\n",
    "    \n",
    "    weigted_sum = np.dot(input_array,weights)+bies\n",
    "    first_output = sigmoid_function(weigted_sum)\n",
    "    \n",
    "    error = first_output-ouput_value\n",
    "    total_error = np.square(np.subtract(first_output,ouput_value)).mean()\n",
    "    \n",
    "    first_der = error\n",
    "    seccond_der = derivation_sigmoid(first_output)\n",
    "    derivation = first_der*seccond_der\n",
    "    \n",
    "    t_input = input_value.T\n",
    "    final_derivation = np.dot(t_input,derivation)\n",
    "    \n",
    "    weights = weights-0.5*final_derivation\n",
    "    \n",
    "    for i in derivation:\n",
    "        bies = bies-0.5*i\n",
    "        \n",
    "print(weights)\n",
    "print(bies)"
   ]
  },
  {
   "cell_type": "code",
   "execution_count": 13,
   "id": "84f6543d-dd92-4b46-9f79-6d5bb3cdf462",
   "metadata": {},
   "outputs": [
    {
     "name": "stdout",
     "output_type": "stream",
     "text": [
      "[8.77304669e-05 9.99889143e-01 9.99889143e-01 8.77304669e-05]\n"
     ]
    }
   ],
   "source": [
    "predict = np.array([0,1])\n",
    "result = np.dot(predict,weights)+bies\n",
    "res = sigmoid_function(result)\n",
    "print(res)"
   ]
  },
  {
   "cell_type": "code",
   "execution_count": null,
   "id": "aaa02a6a-bd63-4e79-8296-761723444139",
   "metadata": {},
   "outputs": [],
   "source": []
  }
 ],
 "metadata": {
  "kernelspec": {
   "display_name": "Python 3 (ipykernel)",
   "language": "python",
   "name": "python3"
  },
  "language_info": {
   "codemirror_mode": {
    "name": "ipython",
    "version": 3
   },
   "file_extension": ".py",
   "mimetype": "text/x-python",
   "name": "python",
   "nbconvert_exporter": "python",
   "pygments_lexer": "ipython3",
   "version": "3.9.12"
  }
 },
 "nbformat": 4,
 "nbformat_minor": 5
}
