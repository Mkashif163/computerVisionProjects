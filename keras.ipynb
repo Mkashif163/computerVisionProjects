{
 "cells": [
  {
   "cell_type": "code",
   "execution_count": 1,
   "id": "043ad846-a26c-4814-ac86-fb29453ebf81",
   "metadata": {},
   "outputs": [],
   "source": [
    "import cv2\n",
    "from numpy import genfromtxt"
   ]
  },
  {
   "cell_type": "code",
   "execution_count": 2,
   "id": "18d06832-d569-4802-8729-83029ecdd474",
   "metadata": {},
   "outputs": [],
   "source": [
    "data  = genfromtxt('data/bank_note_data.txt',delimiter=',')"
   ]
  },
  {
   "cell_type": "code",
   "execution_count": 3,
   "id": "393225d9-15b6-4264-9ad8-cfafedee4da4",
   "metadata": {},
   "outputs": [
    {
     "data": {
      "text/plain": [
       "array([[  3.6216 ,   8.6661 ,  -2.8073 ,  -0.44699,   0.     ],\n",
       "       [  4.5459 ,   8.1674 ,  -2.4586 ,  -1.4621 ,   0.     ],\n",
       "       [  3.866  ,  -2.6383 ,   1.9242 ,   0.10645,   0.     ],\n",
       "       ...,\n",
       "       [ -3.7503 , -13.4586 ,  17.5932 ,  -2.7771 ,   1.     ],\n",
       "       [ -3.5637 ,  -8.3827 ,  12.393  ,  -1.2823 ,   1.     ],\n",
       "       [ -2.5419 ,  -0.65804,   2.6842 ,   1.1952 ,   1.     ]])"
      ]
     },
     "execution_count": 3,
     "metadata": {},
     "output_type": "execute_result"
    }
   ],
   "source": [
    "data"
   ]
  },
  {
   "cell_type": "code",
   "execution_count": 4,
   "id": "daf41572-a536-4f55-aa0e-c194f13e0e4f",
   "metadata": {},
   "outputs": [],
   "source": [
    "label = data[:,4]"
   ]
  },
  {
   "cell_type": "code",
   "execution_count": 5,
   "id": "d99399da-252f-42e3-8d1e-0647a6b4c368",
   "metadata": {},
   "outputs": [
    {
     "data": {
      "text/plain": [
       "array([0., 0., 0., ..., 1., 1., 1.])"
      ]
     },
     "execution_count": 5,
     "metadata": {},
     "output_type": "execute_result"
    }
   ],
   "source": [
    "label"
   ]
  },
  {
   "cell_type": "code",
   "execution_count": 6,
   "id": "87d3893e-190c-42ab-be3d-0f4dcf71db3c",
   "metadata": {},
   "outputs": [],
   "source": [
    "features = data[:,0:4]"
   ]
  },
  {
   "cell_type": "code",
   "execution_count": 7,
   "id": "8fdd085a-6a24-42b5-9904-75cf1ea26317",
   "metadata": {},
   "outputs": [
    {
     "data": {
      "text/plain": [
       "array([[  3.6216 ,   8.6661 ,  -2.8073 ,  -0.44699],\n",
       "       [  4.5459 ,   8.1674 ,  -2.4586 ,  -1.4621 ],\n",
       "       [  3.866  ,  -2.6383 ,   1.9242 ,   0.10645],\n",
       "       ...,\n",
       "       [ -3.7503 , -13.4586 ,  17.5932 ,  -2.7771 ],\n",
       "       [ -3.5637 ,  -8.3827 ,  12.393  ,  -1.2823 ],\n",
       "       [ -2.5419 ,  -0.65804,   2.6842 ,   1.1952 ]])"
      ]
     },
     "execution_count": 7,
     "metadata": {},
     "output_type": "execute_result"
    }
   ],
   "source": [
    "features"
   ]
  },
  {
   "cell_type": "code",
   "execution_count": 8,
   "id": "bde16854-7f33-4412-9c10-c7da52f6a426",
   "metadata": {},
   "outputs": [],
   "source": [
    "X = features"
   ]
  },
  {
   "cell_type": "code",
   "execution_count": 9,
   "id": "600cc2f4-67da-4e96-9933-d3d04dc70b4a",
   "metadata": {},
   "outputs": [],
   "source": [
    "y=label"
   ]
  },
  {
   "cell_type": "code",
   "execution_count": 10,
   "id": "46e5848d-81c5-4f3a-8d07-a50a34b9f182",
   "metadata": {},
   "outputs": [],
   "source": [
    "from sklearn.model_selection import train_test_split "
   ]
  },
  {
   "cell_type": "code",
   "execution_count": 11,
   "id": "9b910a5e-bb96-4c7f-b811-d4cc9f4a3e07",
   "metadata": {},
   "outputs": [],
   "source": [
    " X_train, X_test, y_train, y_test = train_test_split(X, y, test_size=0.33, random_state=42)"
   ]
  },
  {
   "cell_type": "code",
   "execution_count": 12,
   "id": "7a6ba4a9-b8f9-4aad-9062-f63082ac0980",
   "metadata": {},
   "outputs": [
    {
     "data": {
      "text/plain": [
       "1372"
      ]
     },
     "execution_count": 12,
     "metadata": {},
     "output_type": "execute_result"
    }
   ],
   "source": [
    "len(X)"
   ]
  },
  {
   "cell_type": "code",
   "execution_count": 13,
   "id": "1d14455e-55b2-4a8a-8e23-86bac074b266",
   "metadata": {},
   "outputs": [
    {
     "data": {
      "text/plain": [
       "919"
      ]
     },
     "execution_count": 13,
     "metadata": {},
     "output_type": "execute_result"
    }
   ],
   "source": [
    "len(X_train)"
   ]
  },
  {
   "cell_type": "code",
   "execution_count": 14,
   "id": "3d23f284-a4a5-4ea4-83d8-9dc08bed0cc9",
   "metadata": {},
   "outputs": [
    {
     "data": {
      "text/plain": [
       "453"
      ]
     },
     "execution_count": 14,
     "metadata": {},
     "output_type": "execute_result"
    }
   ],
   "source": [
    "len(X_test)"
   ]
  },
  {
   "cell_type": "code",
   "execution_count": 15,
   "id": "d930685f-2962-4d62-8412-ea63eb8f4619",
   "metadata": {},
   "outputs": [
    {
     "data": {
      "text/plain": [
       "1372"
      ]
     },
     "execution_count": 15,
     "metadata": {},
     "output_type": "execute_result"
    }
   ],
   "source": [
    "len(y)"
   ]
  },
  {
   "cell_type": "code",
   "execution_count": 16,
   "id": "7c3727c0-c5b7-4ebb-b9dc-df01020646cf",
   "metadata": {},
   "outputs": [
    {
     "data": {
      "text/plain": [
       "919"
      ]
     },
     "execution_count": 16,
     "metadata": {},
     "output_type": "execute_result"
    }
   ],
   "source": [
    "len(y_train)"
   ]
  },
  {
   "cell_type": "code",
   "execution_count": 17,
   "id": "28d9e539-670a-4b30-be3a-bcfd890b9110",
   "metadata": {},
   "outputs": [],
   "source": [
    "from sklearn.preprocessing import MinMaxScaler"
   ]
  },
  {
   "cell_type": "code",
   "execution_count": 18,
   "id": "085b88dd-42bb-467a-9567-4cbdbf60eb33",
   "metadata": {},
   "outputs": [],
   "source": [
    "scaler_object = MinMaxScaler()"
   ]
  },
  {
   "cell_type": "code",
   "execution_count": 19,
   "id": "f466b3b7-d923-4fc5-859d-4a56622ad203",
   "metadata": {},
   "outputs": [
    {
     "data": {
      "text/plain": [
       "MinMaxScaler()"
      ]
     },
     "execution_count": 19,
     "metadata": {},
     "output_type": "execute_result"
    }
   ],
   "source": [
    "scaler_object.fit(X_train)"
   ]
  },
  {
   "cell_type": "code",
   "execution_count": 20,
   "id": "a6485a8a-e6c1-478c-85b3-349a5d235eca",
   "metadata": {},
   "outputs": [],
   "source": [
    "scaled_X_train = scaler_object.transform(X_train)"
   ]
  },
  {
   "cell_type": "code",
   "execution_count": 21,
   "id": "3eac4219-49ee-439b-a8dd-5a3a10d7775a",
   "metadata": {},
   "outputs": [],
   "source": [
    "scaled_X_test = scaler_object.transform(X_test)"
   ]
  },
  {
   "cell_type": "code",
   "execution_count": null,
   "id": "0151610b-c085-421a-b0f9-d52822692abb",
   "metadata": {},
   "outputs": [],
   "source": []
  },
  {
   "cell_type": "code",
   "execution_count": 22,
   "id": "205b3a89-33d4-47d4-8be1-fc2f2b8d5ae4",
   "metadata": {},
   "outputs": [],
   "source": [
    "\n",
    "from keras.models import Sequential\n",
    "from keras.layers import Dense"
   ]
  },
  {
   "cell_type": "code",
   "execution_count": 23,
   "id": "4799b823-ab79-4fef-a6e1-5ec10f885c92",
   "metadata": {},
   "outputs": [],
   "source": [
    "model = Sequential()\n"
   ]
  },
  {
   "cell_type": "code",
   "execution_count": 24,
   "id": "a878f780-88e9-4a96-8cb0-18e8b7c4f053",
   "metadata": {},
   "outputs": [],
   "source": [
    "model.add(Dense(4,input_dim=4,activation='relu'))"
   ]
  },
  {
   "cell_type": "code",
   "execution_count": 25,
   "id": "45b426fe-d48c-4838-bd23-303d81ff3400",
   "metadata": {},
   "outputs": [],
   "source": [
    "model.add(Dense(8,activation='relu'))"
   ]
  },
  {
   "cell_type": "code",
   "execution_count": 26,
   "id": "774705d9-0a20-41c3-ade7-0c4fb5472453",
   "metadata": {},
   "outputs": [],
   "source": [
    "model.add(Dense(1,activation='sigmoid'))"
   ]
  },
  {
   "cell_type": "code",
   "execution_count": 27,
   "id": "599866d2-aa6e-4dd4-bad0-c06df3d12a59",
   "metadata": {},
   "outputs": [],
   "source": [
    "model.compile(loss='binary_crossentropy',optimizer='adam',metrics=['accuracy'])"
   ]
  },
  {
   "cell_type": "code",
   "execution_count": 28,
   "id": "8c45302b-0b01-4798-8f9d-d87a617a3a25",
   "metadata": {},
   "outputs": [
    {
     "name": "stdout",
     "output_type": "stream",
     "text": [
      "Epoch 1/50\n",
      "29/29 - 1s - loss: 0.7101 - accuracy: 0.4940 - 985ms/epoch - 34ms/step\n",
      "Epoch 2/50\n",
      "29/29 - 0s - loss: 0.6838 - accuracy: 0.5582 - 60ms/epoch - 2ms/step\n",
      "Epoch 3/50\n",
      "29/29 - 0s - loss: 0.6707 - accuracy: 0.5952 - 65ms/epoch - 2ms/step\n",
      "Epoch 4/50\n",
      "29/29 - 0s - loss: 0.6618 - accuracy: 0.6355 - 60ms/epoch - 2ms/step\n",
      "Epoch 5/50\n",
      "29/29 - 0s - loss: 0.6537 - accuracy: 0.6627 - 65ms/epoch - 2ms/step\n",
      "Epoch 6/50\n",
      "29/29 - 0s - loss: 0.6397 - accuracy: 0.6866 - 65ms/epoch - 2ms/step\n",
      "Epoch 7/50\n",
      "29/29 - 0s - loss: 0.6238 - accuracy: 0.7149 - 75ms/epoch - 3ms/step\n",
      "Epoch 8/50\n",
      "29/29 - 0s - loss: 0.6092 - accuracy: 0.7203 - 70ms/epoch - 2ms/step\n",
      "Epoch 9/50\n",
      "29/29 - 0s - loss: 0.5942 - accuracy: 0.7345 - 75ms/epoch - 3ms/step\n",
      "Epoch 10/50\n",
      "29/29 - 0s - loss: 0.5787 - accuracy: 0.7421 - 70ms/epoch - 2ms/step\n",
      "Epoch 11/50\n",
      "29/29 - 0s - loss: 0.5627 - accuracy: 0.7541 - 80ms/epoch - 3ms/step\n",
      "Epoch 12/50\n",
      "29/29 - 0s - loss: 0.5468 - accuracy: 0.7552 - 75ms/epoch - 3ms/step\n",
      "Epoch 13/50\n",
      "29/29 - 0s - loss: 0.5301 - accuracy: 0.7824 - 65ms/epoch - 2ms/step\n",
      "Epoch 14/50\n",
      "29/29 - 0s - loss: 0.5131 - accuracy: 0.7867 - 65ms/epoch - 2ms/step\n",
      "Epoch 15/50\n",
      "29/29 - 0s - loss: 0.4967 - accuracy: 0.8041 - 55ms/epoch - 2ms/step\n",
      "Epoch 16/50\n",
      "29/29 - 0s - loss: 0.4804 - accuracy: 0.8118 - 50ms/epoch - 2ms/step\n",
      "Epoch 17/50\n",
      "29/29 - 0s - loss: 0.4655 - accuracy: 0.8346 - 55ms/epoch - 2ms/step\n",
      "Epoch 18/50\n",
      "29/29 - 0s - loss: 0.4489 - accuracy: 0.8368 - 55ms/epoch - 2ms/step\n",
      "Epoch 19/50\n",
      "29/29 - 0s - loss: 0.4347 - accuracy: 0.8498 - 55ms/epoch - 2ms/step\n",
      "Epoch 20/50\n",
      "29/29 - 0s - loss: 0.4200 - accuracy: 0.8640 - 65ms/epoch - 2ms/step\n",
      "Epoch 21/50\n",
      "29/29 - 0s - loss: 0.4063 - accuracy: 0.8672 - 65ms/epoch - 2ms/step\n",
      "Epoch 22/50\n",
      "29/29 - 0s - loss: 0.3941 - accuracy: 0.8694 - 70ms/epoch - 2ms/step\n",
      "Epoch 23/50\n",
      "29/29 - 0s - loss: 0.3812 - accuracy: 0.8847 - 80ms/epoch - 3ms/step\n",
      "Epoch 24/50\n",
      "29/29 - 0s - loss: 0.3686 - accuracy: 0.8781 - 75ms/epoch - 3ms/step\n",
      "Epoch 25/50\n",
      "29/29 - 0s - loss: 0.3564 - accuracy: 0.8890 - 75ms/epoch - 3ms/step\n",
      "Epoch 26/50\n",
      "29/29 - 0s - loss: 0.3450 - accuracy: 0.8901 - 75ms/epoch - 3ms/step\n",
      "Epoch 27/50\n",
      "29/29 - 0s - loss: 0.3330 - accuracy: 0.8934 - 75ms/epoch - 3ms/step\n",
      "Epoch 28/50\n",
      "29/29 - 0s - loss: 0.3225 - accuracy: 0.9021 - 75ms/epoch - 3ms/step\n",
      "Epoch 29/50\n",
      "29/29 - 0s - loss: 0.3126 - accuracy: 0.9021 - 60ms/epoch - 2ms/step\n",
      "Epoch 30/50\n",
      "29/29 - 0s - loss: 0.3019 - accuracy: 0.9042 - 65ms/epoch - 2ms/step\n",
      "Epoch 31/50\n",
      "29/29 - 0s - loss: 0.2920 - accuracy: 0.9086 - 60ms/epoch - 2ms/step\n",
      "Epoch 32/50\n",
      "29/29 - 0s - loss: 0.2837 - accuracy: 0.9129 - 70ms/epoch - 2ms/step\n",
      "Epoch 33/50\n",
      "29/29 - 0s - loss: 0.2732 - accuracy: 0.9249 - 70ms/epoch - 2ms/step\n",
      "Epoch 34/50\n",
      "29/29 - 0s - loss: 0.2641 - accuracy: 0.9260 - 65ms/epoch - 2ms/step\n",
      "Epoch 35/50\n",
      "29/29 - 0s - loss: 0.2561 - accuracy: 0.9227 - 70ms/epoch - 2ms/step\n",
      "Epoch 36/50\n",
      "29/29 - 0s - loss: 0.2477 - accuracy: 0.9304 - 80ms/epoch - 3ms/step\n",
      "Epoch 37/50\n",
      "29/29 - 0s - loss: 0.2412 - accuracy: 0.9304 - 70ms/epoch - 2ms/step\n",
      "Epoch 38/50\n",
      "29/29 - 0s - loss: 0.2329 - accuracy: 0.9358 - 75ms/epoch - 3ms/step\n",
      "Epoch 39/50\n",
      "29/29 - 0s - loss: 0.2258 - accuracy: 0.9380 - 65ms/epoch - 2ms/step\n",
      "Epoch 40/50\n",
      "29/29 - 0s - loss: 0.2188 - accuracy: 0.9380 - 60ms/epoch - 2ms/step\n",
      "Epoch 41/50\n",
      "29/29 - 0s - loss: 0.2123 - accuracy: 0.9402 - 65ms/epoch - 2ms/step\n",
      "Epoch 42/50\n",
      "29/29 - 0s - loss: 0.2056 - accuracy: 0.9402 - 70ms/epoch - 2ms/step\n",
      "Epoch 43/50\n",
      "29/29 - 0s - loss: 0.1998 - accuracy: 0.9412 - 75ms/epoch - 3ms/step\n",
      "Epoch 44/50\n",
      "29/29 - 0s - loss: 0.1935 - accuracy: 0.9423 - 75ms/epoch - 3ms/step\n",
      "Epoch 45/50\n",
      "29/29 - 0s - loss: 0.1877 - accuracy: 0.9423 - 70ms/epoch - 2ms/step\n",
      "Epoch 46/50\n",
      "29/29 - 0s - loss: 0.1832 - accuracy: 0.9456 - 75ms/epoch - 3ms/step\n",
      "Epoch 47/50\n",
      "29/29 - 0s - loss: 0.1775 - accuracy: 0.9467 - 85ms/epoch - 3ms/step\n",
      "Epoch 48/50\n",
      "29/29 - 0s - loss: 0.1736 - accuracy: 0.9456 - 70ms/epoch - 2ms/step\n",
      "Epoch 49/50\n",
      "29/29 - 0s - loss: 0.1685 - accuracy: 0.9489 - 75ms/epoch - 3ms/step\n",
      "Epoch 50/50\n",
      "29/29 - 0s - loss: 0.1635 - accuracy: 0.9499 - 70ms/epoch - 2ms/step\n"
     ]
    },
    {
     "data": {
      "text/plain": [
       "<keras.callbacks.History at 0x28a84cef640>"
      ]
     },
     "execution_count": 28,
     "metadata": {},
     "output_type": "execute_result"
    }
   ],
   "source": [
    "model.fit(scaled_X_train,y_train,epochs=50,verbose=2)"
   ]
  },
  {
   "cell_type": "code",
   "execution_count": 29,
   "id": "de1478bd-0a00-483a-b6ac-cff2b705da40",
   "metadata": {},
   "outputs": [
    {
     "data": {
      "text/plain": [
       "['loss', 'accuracy']"
      ]
     },
     "execution_count": 29,
     "metadata": {},
     "output_type": "execute_result"
    }
   ],
   "source": [
    "model.metrics_names"
   ]
  },
  {
   "cell_type": "code",
   "execution_count": 30,
   "id": "85b648a0-352c-446c-b3ac-6a24c55a78c7",
   "metadata": {},
   "outputs": [],
   "source": [
    "from sklearn.metrics import confusion_matrix,classification_report"
   ]
  },
  {
   "cell_type": "code",
   "execution_count": 31,
   "id": "31c7e87e-3941-4859-a0ec-458d1ac78cd6",
   "metadata": {},
   "outputs": [
    {
     "name": "stdout",
     "output_type": "stream",
     "text": [
      "15/15 [==============================] - 0s 5ms/step\n"
     ]
    }
   ],
   "source": [
    "predictions = (model.predict(scaled_X_test) > 0.5).astype(\"int32\")"
   ]
  },
  {
   "cell_type": "code",
   "execution_count": 32,
   "id": "d64550f8-f02c-4534-9e14-8c789ed44e8f",
   "metadata": {},
   "outputs": [
    {
     "data": {
      "text/plain": [
       "array([[253,   4],\n",
       "       [ 17, 179]], dtype=int64)"
      ]
     },
     "execution_count": 32,
     "metadata": {},
     "output_type": "execute_result"
    }
   ],
   "source": [
    "confusion_matrix(y_test,predictions)"
   ]
  },
  {
   "cell_type": "code",
   "execution_count": 33,
   "id": "3c78aa3e-c608-4a6e-b04e-318cde8500a9",
   "metadata": {},
   "outputs": [
    {
     "name": "stdout",
     "output_type": "stream",
     "text": [
      "              precision    recall  f1-score   support\n",
      "\n",
      "         0.0       0.94      0.98      0.96       257\n",
      "         1.0       0.98      0.91      0.94       196\n",
      "\n",
      "    accuracy                           0.95       453\n",
      "   macro avg       0.96      0.95      0.95       453\n",
      "weighted avg       0.95      0.95      0.95       453\n",
      "\n"
     ]
    }
   ],
   "source": [
    "print(classification_report(y_test,predictions))"
   ]
  },
  {
   "cell_type": "code",
   "execution_count": 34,
   "id": "b38b43ec-598a-4a58-9af1-a3315a94bd62",
   "metadata": {},
   "outputs": [],
   "source": [
    "model.save('mysupermodel.h5')"
   ]
  },
  {
   "cell_type": "code",
   "execution_count": 35,
   "id": "4c49b2c6-1e5b-4a7a-8213-48c26ad4db05",
   "metadata": {},
   "outputs": [],
   "source": [
    "from keras.models import load_model"
   ]
  },
  {
   "cell_type": "code",
   "execution_count": 36,
   "id": "19d2bce4-33e1-49e4-8742-cf8ec725429f",
   "metadata": {},
   "outputs": [],
   "source": [
    "new_model = load_model('mysupermodel.h5')"
   ]
  },
  {
   "cell_type": "code",
   "execution_count": 37,
   "id": "f4b4ebac-d0e8-42a2-a4e9-7f1c93e7be6f",
   "metadata": {},
   "outputs": [
    {
     "name": "stdout",
     "output_type": "stream",
     "text": [
      "15/15 [==============================] - 0s 1ms/step\n"
     ]
    },
    {
     "data": {
      "text/plain": [
       "array([[0.05376136],\n",
       "       [0.4406313 ],\n",
       "       [0.27067548],\n",
       "       [0.07549235],\n",
       "       [0.04715398],\n",
       "       [0.0238389 ],\n",
       "       [0.18786773],\n",
       "       [0.01006017],\n",
       "       [0.03792981],\n",
       "       [0.1235264 ],\n",
       "       [0.5094376 ],\n",
       "       [0.8668437 ],\n",
       "       [0.1560072 ],\n",
       "       [0.8048832 ],\n",
       "       [0.5725431 ],\n",
       "       [0.2733642 ],\n",
       "       [0.90850335],\n",
       "       [0.9175049 ],\n",
       "       [0.8746882 ],\n",
       "       [0.83646107],\n",
       "       [0.02597675],\n",
       "       [0.07549765],\n",
       "       [0.8539943 ],\n",
       "       [0.01787888],\n",
       "       [0.99186766],\n",
       "       [0.02136901],\n",
       "       [0.01203659],\n",
       "       [0.8573159 ],\n",
       "       [0.00194362],\n",
       "       [0.00431145],\n",
       "       [0.74252546],\n",
       "       [0.10165235],\n",
       "       [0.15515538],\n",
       "       [0.99341744],\n",
       "       [0.9783733 ],\n",
       "       [0.00975532],\n",
       "       [0.47910193],\n",
       "       [0.79112023],\n",
       "       [0.88440067],\n",
       "       [0.08716909],\n",
       "       [0.05462569],\n",
       "       [0.7377296 ],\n",
       "       [0.7982396 ],\n",
       "       [0.03245268],\n",
       "       [0.9801471 ],\n",
       "       [0.85803074],\n",
       "       [0.9462574 ],\n",
       "       [0.03555823],\n",
       "       [0.05051419],\n",
       "       [0.3273319 ],\n",
       "       [0.03668812],\n",
       "       [0.009994  ],\n",
       "       [0.08534976],\n",
       "       [0.01571734],\n",
       "       [0.31227067],\n",
       "       [0.74064547],\n",
       "       [0.10272298],\n",
       "       [0.00821487],\n",
       "       [0.02723582],\n",
       "       [0.01333138],\n",
       "       [0.94064045],\n",
       "       [0.05289588],\n",
       "       [0.2955258 ],\n",
       "       [0.00852768],\n",
       "       [0.09721766],\n",
       "       [0.00956474],\n",
       "       [0.02841493],\n",
       "       [0.10303395],\n",
       "       [0.5431015 ],\n",
       "       [0.27249685],\n",
       "       [0.83159673],\n",
       "       [0.0241163 ],\n",
       "       [0.77828896],\n",
       "       [0.00505851],\n",
       "       [0.7596617 ],\n",
       "       [0.4369639 ],\n",
       "       [0.03160476],\n",
       "       [0.8700814 ],\n",
       "       [0.9334714 ],\n",
       "       [0.68603444],\n",
       "       [0.6649921 ],\n",
       "       [0.2169306 ],\n",
       "       [0.40253243],\n",
       "       [0.02249657],\n",
       "       [0.09135645],\n",
       "       [0.00434981],\n",
       "       [0.04617888],\n",
       "       [0.9814569 ],\n",
       "       [0.18724541],\n",
       "       [0.0932293 ],\n",
       "       [0.02328188],\n",
       "       [0.03502876],\n",
       "       [0.7023145 ],\n",
       "       [0.7850282 ],\n",
       "       [0.03862815],\n",
       "       [0.9392722 ],\n",
       "       [0.9898029 ],\n",
       "       [0.12465367],\n",
       "       [0.02538247],\n",
       "       [0.11217123],\n",
       "       [0.94490254],\n",
       "       [0.02443157],\n",
       "       [0.19583836],\n",
       "       [0.0697953 ],\n",
       "       [0.99465257],\n",
       "       [0.0106029 ],\n",
       "       [0.05542877],\n",
       "       [0.38156024],\n",
       "       [0.9080112 ],\n",
       "       [0.86669004],\n",
       "       [0.9211251 ],\n",
       "       [0.6624756 ],\n",
       "       [0.0140214 ],\n",
       "       [0.9705342 ],\n",
       "       [0.83377665],\n",
       "       [0.97290593],\n",
       "       [0.00610228],\n",
       "       [0.96983117],\n",
       "       [0.91414624],\n",
       "       [0.0193288 ],\n",
       "       [0.8619351 ],\n",
       "       [0.08191509],\n",
       "       [0.57689863],\n",
       "       [0.01840402],\n",
       "       [0.1358556 ],\n",
       "       [0.16551745],\n",
       "       [0.9603105 ],\n",
       "       [0.78878   ],\n",
       "       [0.11068679],\n",
       "       [0.9002167 ],\n",
       "       [0.99043477],\n",
       "       [0.0949003 ],\n",
       "       [0.10077508],\n",
       "       [0.03889669],\n",
       "       [0.00576383],\n",
       "       [0.0639545 ],\n",
       "       [0.8961265 ],\n",
       "       [0.00437503],\n",
       "       [0.13273978],\n",
       "       [0.7926982 ],\n",
       "       [0.03950723],\n",
       "       [0.04250678],\n",
       "       [0.91383106],\n",
       "       [0.0330301 ],\n",
       "       [0.5907267 ],\n",
       "       [0.16082081],\n",
       "       [0.25528076],\n",
       "       [0.44929004],\n",
       "       [0.5436288 ],\n",
       "       [0.02849516],\n",
       "       [0.45312706],\n",
       "       [0.86891115],\n",
       "       [0.8977289 ],\n",
       "       [0.00319639],\n",
       "       [0.6866341 ],\n",
       "       [0.01329182],\n",
       "       [0.73962754],\n",
       "       [0.13930148],\n",
       "       [0.10183387],\n",
       "       [0.09072709],\n",
       "       [0.98526764],\n",
       "       [0.9608381 ],\n",
       "       [0.95756817],\n",
       "       [0.9502887 ],\n",
       "       [0.74158597],\n",
       "       [0.02923888],\n",
       "       [0.95147866],\n",
       "       [0.03211447],\n",
       "       [0.0091985 ],\n",
       "       [0.04679629],\n",
       "       [0.28670225],\n",
       "       [0.02343174],\n",
       "       [0.080282  ],\n",
       "       [0.95804083],\n",
       "       [0.04032571],\n",
       "       [0.05289778],\n",
       "       [0.9261038 ],\n",
       "       [0.9880579 ],\n",
       "       [0.23818703],\n",
       "       [0.00922912],\n",
       "       [0.11219788],\n",
       "       [0.10365736],\n",
       "       [0.9651078 ],\n",
       "       [0.05747613],\n",
       "       [0.9295145 ],\n",
       "       [0.04722243],\n",
       "       [0.8122854 ],\n",
       "       [0.87796086],\n",
       "       [0.01036002],\n",
       "       [0.05868467],\n",
       "       [0.93089134],\n",
       "       [0.03247191],\n",
       "       [0.15460104],\n",
       "       [0.9765078 ],\n",
       "       [0.91399014],\n",
       "       [0.8737865 ],\n",
       "       [0.7383456 ],\n",
       "       [0.44114697],\n",
       "       [0.56377065],\n",
       "       [0.95866174],\n",
       "       [0.96660924],\n",
       "       [0.954924  ],\n",
       "       [0.03805002],\n",
       "       [0.11066665],\n",
       "       [0.9293999 ],\n",
       "       [0.97360146],\n",
       "       [0.9727934 ],\n",
       "       [0.63851744],\n",
       "       [0.32165352],\n",
       "       [0.02723895],\n",
       "       [0.45578828],\n",
       "       [0.00869434],\n",
       "       [0.15777697],\n",
       "       [0.15826513],\n",
       "       [0.01431123],\n",
       "       [0.00874493],\n",
       "       [0.4369639 ],\n",
       "       [0.09979691],\n",
       "       [0.9909743 ],\n",
       "       [0.88653   ],\n",
       "       [0.88436586],\n",
       "       [0.9399851 ],\n",
       "       [0.9020697 ],\n",
       "       [0.04520134],\n",
       "       [0.8222909 ],\n",
       "       [0.01960622],\n",
       "       [0.18199664],\n",
       "       [0.95876807],\n",
       "       [0.8868336 ],\n",
       "       [0.9246598 ],\n",
       "       [0.8987809 ],\n",
       "       [0.09575355],\n",
       "       [0.7091221 ],\n",
       "       [0.00572104],\n",
       "       [0.83541256],\n",
       "       [0.9592243 ],\n",
       "       [0.8031257 ],\n",
       "       [0.9470764 ],\n",
       "       [0.07125935],\n",
       "       [0.03554615],\n",
       "       [0.2356561 ],\n",
       "       [0.83150613],\n",
       "       [0.03234578],\n",
       "       [0.9607938 ],\n",
       "       [0.8787124 ],\n",
       "       [0.96655816],\n",
       "       [0.06666223],\n",
       "       [0.03673249],\n",
       "       [0.0213311 ],\n",
       "       [0.05232328],\n",
       "       [0.00377262],\n",
       "       [0.05362362],\n",
       "       [0.92918336],\n",
       "       [0.2776648 ],\n",
       "       [0.1259535 ],\n",
       "       [0.03654986],\n",
       "       [0.01961156],\n",
       "       [0.03408553],\n",
       "       [0.96534383],\n",
       "       [0.9138934 ],\n",
       "       [0.04405664],\n",
       "       [0.0850101 ],\n",
       "       [0.02122644],\n",
       "       [0.94015056],\n",
       "       [0.7592975 ],\n",
       "       [0.03023297],\n",
       "       [0.85762686],\n",
       "       [0.05250068],\n",
       "       [0.98828286],\n",
       "       [0.8388354 ],\n",
       "       [0.9453013 ],\n",
       "       [0.62082213],\n",
       "       [0.04955546],\n",
       "       [0.4406257 ],\n",
       "       [0.0097907 ],\n",
       "       [0.03668131],\n",
       "       [0.04761737],\n",
       "       [0.93250304],\n",
       "       [0.01029501],\n",
       "       [0.19745833],\n",
       "       [0.978541  ],\n",
       "       [0.00643551],\n",
       "       [0.9537264 ],\n",
       "       [0.00818872],\n",
       "       [0.0615323 ],\n",
       "       [0.89882475],\n",
       "       [0.00916546],\n",
       "       [0.07754751],\n",
       "       [0.01392791],\n",
       "       [0.23445843],\n",
       "       [0.0310893 ],\n",
       "       [0.9876071 ],\n",
       "       [0.9887859 ],\n",
       "       [0.04957841],\n",
       "       [0.9596816 ],\n",
       "       [0.05181737],\n",
       "       [0.7960869 ],\n",
       "       [0.9579869 ],\n",
       "       [0.0052907 ],\n",
       "       [0.45578414],\n",
       "       [0.19356479],\n",
       "       [0.00886247],\n",
       "       [0.03472447],\n",
       "       [0.06513373],\n",
       "       [0.07735789],\n",
       "       [0.8762631 ],\n",
       "       [0.96555746],\n",
       "       [0.92719865],\n",
       "       [0.0270908 ],\n",
       "       [0.00435109],\n",
       "       [0.77750206],\n",
       "       [0.83876044],\n",
       "       [0.02349436],\n",
       "       [0.16178627],\n",
       "       [0.11282805],\n",
       "       [0.00530893],\n",
       "       [0.06843942],\n",
       "       [0.07940879],\n",
       "       [0.96355945],\n",
       "       [0.10667533],\n",
       "       [0.9382194 ],\n",
       "       [0.6963951 ],\n",
       "       [0.9481398 ],\n",
       "       [0.05685685],\n",
       "       [0.010987  ],\n",
       "       [0.02649048],\n",
       "       [0.00321417],\n",
       "       [0.68541616],\n",
       "       [0.16422004],\n",
       "       [0.00380871],\n",
       "       [0.06505471],\n",
       "       [0.08159599],\n",
       "       [0.11602767],\n",
       "       [0.04676712],\n",
       "       [0.18286341],\n",
       "       [0.95853126],\n",
       "       [0.12237861],\n",
       "       [0.8173116 ],\n",
       "       [0.9710656 ],\n",
       "       [0.71691394],\n",
       "       [0.9200134 ],\n",
       "       [0.0204442 ],\n",
       "       [0.8417483 ],\n",
       "       [0.9456434 ],\n",
       "       [0.03035373],\n",
       "       [0.89495665],\n",
       "       [0.82594085],\n",
       "       [0.02680929],\n",
       "       [0.09564292],\n",
       "       [0.5629273 ],\n",
       "       [0.14417021],\n",
       "       [0.02556868],\n",
       "       [0.87364507],\n",
       "       [0.07007748],\n",
       "       [0.9265147 ],\n",
       "       [0.00959216],\n",
       "       [0.8920057 ],\n",
       "       [0.8619266 ],\n",
       "       [0.01485498],\n",
       "       [0.02002634],\n",
       "       [0.909713  ],\n",
       "       [0.100624  ],\n",
       "       [0.11015339],\n",
       "       [0.09667072],\n",
       "       [0.0034988 ],\n",
       "       [0.00539642],\n",
       "       [0.05887004],\n",
       "       [0.9189213 ],\n",
       "       [0.13469772],\n",
       "       [0.05006605],\n",
       "       [0.9917572 ],\n",
       "       [0.4235309 ],\n",
       "       [0.07634784],\n",
       "       [0.24635813],\n",
       "       [0.03797615],\n",
       "       [0.869542  ],\n",
       "       [0.9010522 ],\n",
       "       [0.03861892],\n",
       "       [0.9309773 ],\n",
       "       [0.02413322],\n",
       "       [0.968448  ],\n",
       "       [0.83544964],\n",
       "       [0.686516  ],\n",
       "       [0.03535388],\n",
       "       [0.86302745],\n",
       "       [0.20951824],\n",
       "       [0.04700374],\n",
       "       [0.9408814 ],\n",
       "       [0.8961395 ],\n",
       "       [0.02460241],\n",
       "       [0.90717226],\n",
       "       [0.07123531],\n",
       "       [0.05496218],\n",
       "       [0.06337279],\n",
       "       [0.9778167 ],\n",
       "       [0.9018075 ],\n",
       "       [0.4960054 ],\n",
       "       [0.01905133],\n",
       "       [0.16488016],\n",
       "       [0.00526634],\n",
       "       [0.04369529],\n",
       "       [0.89144534],\n",
       "       [0.04200391],\n",
       "       [0.01952266],\n",
       "       [0.9646496 ],\n",
       "       [0.89016676],\n",
       "       [0.82305825],\n",
       "       [0.8875789 ],\n",
       "       [0.05457725],\n",
       "       [0.8455341 ],\n",
       "       [0.06619226],\n",
       "       [0.05095623],\n",
       "       [0.81388223],\n",
       "       [0.45086393],\n",
       "       [0.11859047],\n",
       "       [0.9403874 ],\n",
       "       [0.2435406 ],\n",
       "       [0.7254635 ],\n",
       "       [0.05820798],\n",
       "       [0.01659681],\n",
       "       [0.01719093],\n",
       "       [0.9349037 ],\n",
       "       [0.7193186 ],\n",
       "       [0.01531821],\n",
       "       [0.03659189],\n",
       "       [0.04644107],\n",
       "       [0.9522861 ],\n",
       "       [0.02412277],\n",
       "       [0.04656006],\n",
       "       [0.9518642 ],\n",
       "       [0.01968305],\n",
       "       [0.00692844],\n",
       "       [0.03792704],\n",
       "       [0.04341555],\n",
       "       [0.8218331 ],\n",
       "       [0.01244846],\n",
       "       [0.88499105],\n",
       "       [0.00175901],\n",
       "       [0.45578414],\n",
       "       [0.8840112 ],\n",
       "       [0.02135438],\n",
       "       [0.05320097],\n",
       "       [0.07179033],\n",
       "       [0.00212546],\n",
       "       [0.00219488],\n",
       "       [0.01828723],\n",
       "       [0.85669076],\n",
       "       [0.8144482 ],\n",
       "       [0.07000421],\n",
       "       [0.0273215 ],\n",
       "       [0.02696115],\n",
       "       [0.00202074],\n",
       "       [0.11219788]], dtype=float32)"
      ]
     },
     "execution_count": 37,
     "metadata": {},
     "output_type": "execute_result"
    }
   ],
   "source": [
    "new_model.predict(scaled_X_test)"
   ]
  },
  {
   "cell_type": "code",
   "execution_count": null,
   "id": "bd6203ce-aeef-474a-8b1c-e618e1424a08",
   "metadata": {},
   "outputs": [],
   "source": []
  },
  {
   "cell_type": "code",
   "execution_count": null,
   "id": "9a0e7ad9-1989-42fd-8d12-eb557198d290",
   "metadata": {},
   "outputs": [],
   "source": []
  },
  {
   "cell_type": "code",
   "execution_count": null,
   "id": "74330edf-ebd5-463e-8d0b-8a92bd638f87",
   "metadata": {},
   "outputs": [],
   "source": []
  },
  {
   "cell_type": "code",
   "execution_count": null,
   "id": "632da33c-7781-484a-a8e2-ae438e642e31",
   "metadata": {},
   "outputs": [],
   "source": []
  },
  {
   "cell_type": "code",
   "execution_count": null,
   "id": "31958845-2da0-47f0-add9-aba5fc3a724c",
   "metadata": {},
   "outputs": [],
   "source": []
  },
  {
   "cell_type": "code",
   "execution_count": null,
   "id": "1b934ed5-ccb6-4b65-a5ad-9da0053bf199",
   "metadata": {},
   "outputs": [],
   "source": []
  },
  {
   "cell_type": "code",
   "execution_count": null,
   "id": "8405f843-2e94-4cd7-ac48-4869a186f9b9",
   "metadata": {},
   "outputs": [],
   "source": []
  },
  {
   "cell_type": "code",
   "execution_count": null,
   "id": "a95bfd8d-d0f3-45e5-a76e-5bacaeeb2336",
   "metadata": {},
   "outputs": [],
   "source": []
  },
  {
   "cell_type": "code",
   "execution_count": null,
   "id": "2e7d1f56-09ab-459e-aae5-7d491d56fe5a",
   "metadata": {},
   "outputs": [],
   "source": []
  },
  {
   "cell_type": "code",
   "execution_count": null,
   "id": "4aa57279-c089-4c4d-a8de-299ce8b2d2c8",
   "metadata": {},
   "outputs": [],
   "source": []
  },
  {
   "cell_type": "code",
   "execution_count": null,
   "id": "7bff0326-d858-437f-ae8b-ff64dd8cb5f7",
   "metadata": {},
   "outputs": [],
   "source": []
  },
  {
   "cell_type": "code",
   "execution_count": null,
   "id": "4023f171-8fc6-4e18-b4fd-2d99358da688",
   "metadata": {},
   "outputs": [],
   "source": []
  },
  {
   "cell_type": "code",
   "execution_count": null,
   "id": "f679a1e7-a006-458a-8b76-ba55fec52886",
   "metadata": {},
   "outputs": [],
   "source": []
  },
  {
   "cell_type": "code",
   "execution_count": null,
   "id": "f004109f-aa42-4456-bb3e-f54dc00500ff",
   "metadata": {},
   "outputs": [],
   "source": []
  },
  {
   "cell_type": "code",
   "execution_count": null,
   "id": "71d34ec3-fcfc-4b57-b2b6-11ae9f38f59c",
   "metadata": {},
   "outputs": [],
   "source": []
  }
 ],
 "metadata": {
  "kernelspec": {
   "display_name": "Python 3 (ipykernel)",
   "language": "python",
   "name": "python3"
  },
  "language_info": {
   "codemirror_mode": {
    "name": "ipython",
    "version": 3
   },
   "file_extension": ".py",
   "mimetype": "text/x-python",
   "name": "python",
   "nbconvert_exporter": "python",
   "pygments_lexer": "ipython3",
   "version": "3.9.12"
  }
 },
 "nbformat": 4,
 "nbformat_minor": 5
}
